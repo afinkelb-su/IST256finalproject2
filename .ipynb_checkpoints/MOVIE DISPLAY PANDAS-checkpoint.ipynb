{
 "cells": [
  {
   "cell_type": "code",
   "execution_count": 2,
   "metadata": {},
   "outputs": [
    {
     "data": {
      "text/html": [
       "<div>\n",
       "<style scoped>\n",
       "    .dataframe tbody tr th:only-of-type {\n",
       "        vertical-align: middle;\n",
       "    }\n",
       "\n",
       "    .dataframe tbody tr th {\n",
       "        vertical-align: top;\n",
       "    }\n",
       "\n",
       "    .dataframe thead th {\n",
       "        text-align: right;\n",
       "    }\n",
       "</style>\n",
       "<table border=\"1\" class=\"dataframe\">\n",
       "  <thead>\n",
       "    <tr style=\"text-align: right;\">\n",
       "      <th></th>\n",
       "      <th>Movies</th>\n",
       "      <th>Rating</th>\n",
       "      <th>Genre</th>\n",
       "      <th>Duration of Movie</th>\n",
       "      <th>RottenTomatoScore</th>\n",
       "    </tr>\n",
       "  </thead>\n",
       "  <tbody>\n",
       "    <tr>\n",
       "      <td>0</td>\n",
       "      <td>Frozen 2</td>\n",
       "      <td>PG</td>\n",
       "      <td>Drama&amp;Fantasy</td>\n",
       "      <td>1 Hour and 34 Mins</td>\n",
       "      <td>78% Approval</td>\n",
       "    </tr>\n",
       "    <tr>\n",
       "      <td>1</td>\n",
       "      <td>Knives Out</td>\n",
       "      <td>PG-13</td>\n",
       "      <td>Drama&amp;Thriller</td>\n",
       "      <td>2 Hours and 10 Mins</td>\n",
       "      <td>96% Approval</td>\n",
       "    </tr>\n",
       "    <tr>\n",
       "      <td>2</td>\n",
       "      <td>Queen&amp;Slim</td>\n",
       "      <td>R-Rated</td>\n",
       "      <td>Drama&amp;Thriller</td>\n",
       "      <td>2 Hours and 12 Mins</td>\n",
       "      <td>83% Approval</td>\n",
       "    </tr>\n",
       "    <tr>\n",
       "      <td>3</td>\n",
       "      <td>A Beautiful Day in the Neighborhood</td>\n",
       "      <td>PG</td>\n",
       "      <td>Drama</td>\n",
       "      <td>1 Hour and 49 Mins</td>\n",
       "      <td>95% Approval</td>\n",
       "    </tr>\n",
       "    <tr>\n",
       "      <td>4</td>\n",
       "      <td>Harriet</td>\n",
       "      <td>PG-13</td>\n",
       "      <td>Drama</td>\n",
       "      <td>2 Hours and 5 Mins</td>\n",
       "      <td>74% Approval</td>\n",
       "    </tr>\n",
       "  </tbody>\n",
       "</table>\n",
       "</div>"
      ],
      "text/plain": [
       "                                Movies    Rating            Genre  \\\n",
       "0                             Frozen 2        PG    Drama&Fantasy   \n",
       "1                           Knives Out     PG-13   Drama&Thriller   \n",
       "2                           Queen&Slim   R-Rated   Drama&Thriller   \n",
       "3  A Beautiful Day in the Neighborhood        PG            Drama   \n",
       "4                              Harriet     PG-13            Drama   \n",
       "\n",
       "      Duration of Movie RottenTomatoScore  \n",
       "0    1 Hour and 34 Mins     78% Approval   \n",
       "1   2 Hours and 10 Mins     96% Approval   \n",
       "2   2 Hours and 12 Mins      83% Approval  \n",
       "3    1 Hour and 49 Mins      95% Approval  \n",
       "4    2 Hours and 5 Mins     74% Approval   "
      ]
     },
     "execution_count": 2,
     "metadata": {},
     "output_type": "execute_result"
    }
   ],
   "source": [
    "import pandas as pd\n",
    "import numpy as np\n",
    "\n",
    "# this turns off warning messages\n",
    "import warnings\n",
    "warnings.filterwarnings('ignore')\n",
    "\n",
    "movies= pd.read_csv('CCL-moviesSyracuse.csv')\n",
    "movies.head()"
   ]
  },
  {
   "cell_type": "code",
   "execution_count": 4,
   "metadata": {},
   "outputs": [
    {
     "name": "stdout",
     "output_type": "stream",
     "text": [
      "Enter one of the movies listed. Please enter it exactly the way it is seen up above! uyjgj\n",
      "Nope, thats not one the movies listed\n",
      "Enter one of the movies listed. Please enter it exactly the way it is seen up above! uykhlui\n",
      "Nope, thats not one the movies listed\n",
      "Enter one of the movies listed. Please enter it exactly the way it is seen up above! ghjl\n",
      "You tried too many times to chose a movie that doesn't exist!\n"
     ]
    }
   ],
   "source": [
    "times = 0\n",
    "while True:\n",
    "    chose = input(\"Enter one of the movies listed. Please enter it exactly the way it is seen up above! \")\n",
    "    times = times + 1\n",
    "    if chose == 'Frozen 2':\n",
    "        print(\"Excellent decision to go see\", chose)\n",
    "        break\n",
    "    if chose == 'Harriet':\n",
    "        print(\"Excellent decision to go see\", chose)\n",
    "        break\n",
    "    if chose == 'Knives Out':\n",
    "        print(\"Excellent decision to go see\", chose)\n",
    "        break\n",
    "    if chose == 'Queen&Slim':\n",
    "        print(\"Excellent decision to go see\", chose)\n",
    "        break\n",
    "    if chose == 'A Beautiful Day in the Neighborhood':\n",
    "        print(\"Excellent decision to go see\", chose)\n",
    "        break\n",
    "    if chose == 'Joker':\n",
    "        print(\"Excellent decision to go see\", chose)\n",
    "        break\n",
    "    if times == 3:\n",
    "        print(\"You tried too many times to chose a movie that doesn't exist!\")\n",
    "        break\n",
    "    print(\"Nope, thats not one the movies listed\")"
   ]
  },
  {
   "cell_type": "code",
   "execution_count": null,
   "metadata": {},
   "outputs": [],
   "source": []
  },
  {
   "cell_type": "code",
   "execution_count": null,
   "metadata": {},
   "outputs": [],
   "source": []
  },
  {
   "cell_type": "code",
   "execution_count": null,
   "metadata": {},
   "outputs": [],
   "source": []
  }
 ],
 "metadata": {
  "kernelspec": {
   "display_name": "Python 3",
   "language": "python",
   "name": "python3"
  },
  "language_info": {
   "codemirror_mode": {
    "name": "ipython",
    "version": 3
   },
   "file_extension": ".py",
   "mimetype": "text/x-python",
   "name": "python",
   "nbconvert_exporter": "python",
   "pygments_lexer": "ipython3",
   "version": "3.7.3"
  }
 },
 "nbformat": 4,
 "nbformat_minor": 2
}
