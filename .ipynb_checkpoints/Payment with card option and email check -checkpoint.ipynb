{
 "cells": [
  {
   "cell_type": "code",
   "execution_count": null,
   "metadata": {},
   "outputs": [],
   "source": [
    "payment = input(\"Cash or Credit Card for paymennt\"):\n",
    "    if 'cash'\n",
    "\n",
    "input(\"Enter your card number: \")\n",
    "input(\"Enter the date of expiration: \")\n",
    "input(\"Enter the CVV: \")\n",
    "print(\"Payment Successful! Enjoy the movie!\")"
   ]
  },
  {
   "cell_type": "code",
   "execution_count": 6,
   "metadata": {},
   "outputs": [
    {
     "name": "stdout",
     "output_type": "stream",
     "text": [
      "enter your credit card number:678\n"
     ]
    },
    {
     "ename": "TypeError",
     "evalue": "'>=' not supported between instances of 'str' and 'int'",
     "output_type": "error",
     "traceback": [
      "\u001b[0;31m---------------------------------------------------------------------------\u001b[0m",
      "\u001b[0;31mTypeError\u001b[0m                                 Traceback (most recent call last)",
      "\u001b[0;32m<ipython-input-6-b8972e1b4a8c>\u001b[0m in \u001b[0;36m<module>\u001b[0;34m\u001b[0m\n\u001b[1;32m      1\u001b[0m \u001b[0mcreditcard\u001b[0m \u001b[0;34m=\u001b[0m\u001b[0minput\u001b[0m\u001b[0;34m(\u001b[0m\u001b[0;34m\"enter your credit card number:\"\u001b[0m\u001b[0;34m)\u001b[0m\u001b[0;34m\u001b[0m\u001b[0;34m\u001b[0m\u001b[0m\n\u001b[0;32m----> 2\u001b[0;31m \u001b[0;32mif\u001b[0m \u001b[0mcreditcard\u001b[0m\u001b[0;34m>=\u001b[0m\u001b[0;36m0\u001b[0m \u001b[0;32mand\u001b[0m \u001b[0mcreditcard\u001b[0m\u001b[0;34m<=\u001b[0m\u001b[0;36m15\u001b[0m\u001b[0;34m:\u001b[0m\u001b[0;34m\u001b[0m\u001b[0;34m\u001b[0m\u001b[0m\n\u001b[0m\u001b[1;32m      3\u001b[0m     \u001b[0mprint\u001b[0m\u001b[0;34m(\u001b[0m\u001b[0;34m\"ERROR: NOT ENOUGH NUMBERS\"\u001b[0m\u001b[0;34m)\u001b[0m\u001b[0;34m\u001b[0m\u001b[0;34m\u001b[0m\u001b[0m\n\u001b[1;32m      4\u001b[0m \u001b[0;32melif\u001b[0m \u001b[0mcreditcard\u001b[0m \u001b[0;34m==\u001b[0m \u001b[0;36m16\u001b[0m\u001b[0;34m:\u001b[0m\u001b[0;34m\u001b[0m\u001b[0;34m\u001b[0m\u001b[0m\n\u001b[1;32m      5\u001b[0m     \u001b[0mprint\u001b[0m\u001b[0;34m(\u001b[0m\u001b[0;34m\"continue on\"\u001b[0m\u001b[0;34m)\u001b[0m\u001b[0;34m\u001b[0m\u001b[0;34m\u001b[0m\u001b[0m\n",
      "\u001b[0;31mTypeError\u001b[0m: '>=' not supported between instances of 'str' and 'int'"
     ]
    }
   ],
   "source": [
    "creditcard =input(\"enter your credit card number:\")\n",
    "if creditcard>=0 or creditcard<=15:\n",
    "    print(\"ERROR: NOT ENOUGH NUMBERS\")\n",
    "elif creditcard == 16:\n",
    "    print(\"continue on\")\n",
    "elif creditcard>=17 and creditcard<=30:\n",
    "    print(\"ERROR: TOO MANY NUMBERS!\")"
   ]
  },
  {
   "cell_type": "code",
   "execution_count": null,
   "metadata": {},
   "outputs": [],
   "source": []
  },
  {
   "cell_type": "code",
   "execution_count": 1,
   "metadata": {},
   "outputs": [
    {
     "name": "stdout",
     "output_type": "stream",
     "text": [
      "You paid with a credit card, correct? yes\n",
      "Great! Enter your email to get your tickets and recipt\n",
      "Please enter your email.kjnsdfjklen@syr.edu\n",
      "kjnsdfjklen@syr.edu is a valid email.\n"
     ]
    }
   ],
   "source": [
    "question = input(\"You paid with a credit card, correct? \")\n",
    "if question == 'yes' or 'Yes': \n",
    "    print(\"Great! Enter your email to get your tickets and recipt\")\n",
    "    email = input(\"Please enter your email.\")\n",
    "    result = email.endswith(\"@syr.edu\")\n",
    "    while True: \n",
    "        if result is True:\n",
    "            print(email, \"is a valid email.\")\n",
    "            break \n",
    "        else:\n",
    "            if email is False: \n",
    "                test = print(\"wrong, try again.\")\n",
    "                \n",
    "            break      "
   ]
  },
  {
   "cell_type": "code",
   "execution_count": null,
   "metadata": {},
   "outputs": [],
   "source": [
    "I'm leaving AbbyRose.  See you tomorrow.  Your lovely teammember: -----TING\n",
    "Have a good night ~"
   ]
  }
 ],
 "metadata": {
  "kernelspec": {
   "display_name": "Python 3",
   "language": "python",
   "name": "python3"
  },
  "language_info": {
   "codemirror_mode": {
    "name": "ipython",
    "version": 3
   },
   "file_extension": ".py",
   "mimetype": "text/x-python",
   "name": "python",
   "nbconvert_exporter": "python",
   "pygments_lexer": "ipython3",
   "version": "3.7.3"
  }
 },
 "nbformat": 4,
 "nbformat_minor": 2
}
