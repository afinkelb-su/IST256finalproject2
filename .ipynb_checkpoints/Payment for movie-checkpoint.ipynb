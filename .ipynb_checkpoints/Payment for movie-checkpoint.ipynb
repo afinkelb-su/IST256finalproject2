{
 "cells": [
  {
   "cell_type": "code",
   "execution_count": null,
   "metadata": {},
   "outputs": [],
   "source": [
    "payment = input(\"Enter if you are paying with a Credit Card or Cash, enter the correct way seen: \")\n",
    "if payment == 'Cash':\n",
    "    print(\"Please bring enough movie to theatre and enjoy your show!\")\n",
    "elif payment == 'Credit Card':\n",
    "    print(\"Please enter your Credit Card number\")\n",
    "    card_number = (input('Enter credit card number:  '))\n",
    "    first_digit = card_number[0]\n",
    "    if first_digit == '4':\n",
    "        print('The card number is visa correct?')\n",
    "        while True:\n",
    "            answer = input(\"Enter 'Yes' if so... \")\n",
    "            if answer == \"Yes\":\n",
    "                print(\"All done! Thanks for the purchase and enjoy your show!\")\n",
    "                break\n",
    "            else:\n",
    "                print(\"Oh no! It's just easier to bring money.\")\n",
    "                break\n",
    "    elif first_digit == '5':\n",
    "        print('The card number is MasterCard correct?')\n",
    "        while True:\n",
    "            answer = input(\"Enter 'Yes' if so... \")\n",
    "            if answer == \"Yes\":\n",
    "                print(\"All done! Thanks for the purchase and enjoy your show!\")\n",
    "                break\n",
    "            else:\n",
    "                print(\"Oh no! It's just easier to bring money.\")\n",
    "                break\n",
    "    elif first_digit == '6':\n",
    "        print('The card number is Discover correct?')\n",
    "        while True:\n",
    "            answer = input(\"Enter 'Yes' if so... \")\n",
    "            if answer == \"Yes\":\n",
    "                print(\"All done! Thanks for the purchase and enjoy your show!\")\n",
    "                break\n",
    "            else:\n",
    "                print(\"Oh no! It's just easier to bring money.\")\n",
    "                break\n",
    "    elif first_digit  == '3':\n",
    "        print('The card number is American Express correct?')\n",
    "        while True:\n",
    "            answer = input(\"Enter 'Yes' if so... \")\n",
    "            if answer == \"Yes\":\n",
    "                print(\"All done! Thanks for the purchase and enjoy your show!\")\n",
    "                break\n",
    "            else:\n",
    "                print(\"Oh no! It's just easier to bring money.\")\n",
    "                break\n",
    "    else:\n",
    "        print('The card is invalid.')"
   ]
  },
  {
   "cell_type": "code",
   "execution_count": 25,
   "metadata": {},
   "outputs": [
    {
     "name": "stdout",
     "output_type": "stream",
     "text": [
      "You paid with a Credit Card correct? yes\n",
      "Great! Enter your email to get the tickets and recipt\n",
      "please enter your emailbdthnfj\n"
     ]
    }
   ],
   "source": [
    "#for credit card payment\n",
    "question = input(\"You paid with a Credit Card correct? \")\n",
    "if question == 'yes' or 'Yes':\n",
    "    print(\"Great! Enter your email to get the tickets and recipt\") \n",
    "    email = input (\"please enter your email\")\n",
    "else: \n",
    "    print(\"Awesome! Remember to bring cash to buy your ticket. Enjoy the show!\")\n",
    "\n",
    "    \n",
    "\n"
   ]
  },
  {
   "cell_type": "code",
   "execution_count": null,
   "metadata": {},
   "outputs": [],
   "source": []
  }
 ],
 "metadata": {
  "kernelspec": {
   "display_name": "Python 3",
   "language": "python",
   "name": "python3"
  },
  "language_info": {
   "codemirror_mode": {
    "name": "ipython",
    "version": 3
   },
   "file_extension": ".py",
   "mimetype": "text/x-python",
   "name": "python",
   "nbconvert_exporter": "python",
   "pygments_lexer": "ipython3",
   "version": "3.7.3"
  }
 },
 "nbformat": 4,
 "nbformat_minor": 2
}
